{
 "cells": [
  {
   "cell_type": "markdown",
   "source": [
    "[Google Vision python docs](https://googleapis.dev/python/vision/latest/index.html)\n",
    "\n",
    "cf. [another tutorial](https://cloud.google.com/functions/docs/tutorials/ocr), which uses cloud functions\n",
    "\n",
    "It turns out, google OCR will work with PDFs only if thy are stored in google cloud. Since that just adds another layer of complexity, I'm going to work with Backblaze"
   ],
   "metadata": {
    "collapsed": false,
    "pycharm": {
     "name": "#%% md\n"
    }
   }
  },
  {
   "cell_type": "code",
   "execution_count": 5,
   "metadata": {
    "collapsed": true
   },
   "outputs": [],
   "source": [
    "from PIL import ImageDraw\n",
    "from google.oauth2 import service_account\n",
    "\n",
    "from oed.bounding_boxes import display_annotation\n",
    "\n",
    "creds_path = '/home/src/oed/creds.json'\n",
    "\n",
    "creds = service_account.Credentials.from_service_account_file(creds_path)"
   ]
  },
  {
   "cell_type": "code",
   "execution_count": 2,
   "outputs": [
    {
     "name": "stdout",
     "output_type": "stream",
     "text": [
      "{\n",
      "  \"shell_port\": 42003,\n",
      "  \"iopub_port\": 54725,\n",
      "  \"stdin_port\": 55791,\n",
      "  \"control_port\": 33279,\n",
      "  \"hb_port\": 36189,\n",
      "  \"ip\": \"127.0.0.1\",\n",
      "  \"key\": \"300b0949-9afb36e8a5d80d53cbddaa13\",\n",
      "  \"transport\": \"tcp\",\n",
      "  \"signature_scheme\": \"hmac-sha256\",\n",
      "  \"kernel_name\": \"\"\n",
      "}\n",
      "\n",
      "Paste the above JSON into a file, and connect with:\n",
      "    $> jupyter <app> --existing <file>\n",
      "or, if you are local, you can connect with just:\n",
      "    $> jupyter <app> --existing kernel-f415e2b6-0728-47c4-adec-437101ba2fbd.json\n",
      "or even just:\n",
      "    $> jupyter <app> --existing\n",
      "if this is the most recent Jupyter kernel you have started.\n"
     ]
    }
   ],
   "source": [
    "%connect_info"
   ],
   "metadata": {
    "collapsed": false,
    "pycharm": {
     "name": "#%%\n"
    }
   }
  },
  {
   "cell_type": "code",
   "execution_count": 3,
   "outputs": [],
   "source": [
    "from google.protobuf.json_format import MessageToDict\n",
    "from google.cloud import vision\n",
    "client = vision.ImageAnnotatorClient(credentials=creds)\n",
    "\n",
    "\n",
    "feature = vision.Feature(\n",
    "    type_=vision.Feature.Type.DOCUMENT_TEXT_DETECTION)\n",
    "# async_request = vision.AsyncAnnotateFileRequest(\n",
    "#     features=[feature], input_config=input_config,\n",
    "#     output_config=output_config)\n",
    "\n",
    "source_uri = 'https://jeroen.github.io/images/testocr.png'\n",
    "# source_uri = 'https://africau.edu/images/default/sample.pdf'\n",
    "\n",
    "source_uri = 'https://ohuiginn.net/tmp/singlepage-1.png'\n",
    "image_src = vision.ImageSource(image_uri = source_uri)\n",
    "img = vision.Image(source=image_src)\n",
    "page_as_protobuf = client.annotate_image({\n",
    "    'image': img,\n",
    "\n",
    "# 'image': {'source': {'image_uri': source_uri}},\n",
    "    'features': [feature]\n",
    "})\n",
    "page_as_protobuf\n",
    "page_as_dict = MessageToDict(page_as_protobuf._pb)"
   ],
   "metadata": {
    "collapsed": false,
    "pycharm": {
     "name": "#%%\n"
    }
   }
  },
  {
   "cell_type": "code",
   "execution_count": 6,
   "outputs": [
    {
     "ename": "NameError",
     "evalue": "name 'creds' is not defined",
     "output_type": "error",
     "traceback": [
      "\u001B[0;31m---------------------------------------------------------------------------\u001B[0m",
      "\u001B[0;31mNameError\u001B[0m                                 Traceback (most recent call last)",
      "\u001B[0;32m<ipython-input-6-610b18b74ec9>\u001B[0m in \u001B[0;36m<module>\u001B[0;34m\u001B[0m\n\u001B[1;32m      2\u001B[0m \u001B[0;34m\u001B[0m\u001B[0m\n\u001B[1;32m      3\u001B[0m \u001B[0;34m\u001B[0m\u001B[0m\n\u001B[0;32m----> 4\u001B[0;31m \u001B[0mdisplay_annotation\u001B[0m\u001B[0;34m(\u001B[0m\u001B[0;34m)\u001B[0m\u001B[0;34m\u001B[0m\u001B[0;34m\u001B[0m\u001B[0m\n\u001B[0m\u001B[1;32m      5\u001B[0m \u001B[0;34m\u001B[0m\u001B[0m\n",
      "\u001B[0;32m/home/src/oed/oed/bounding_boxes.py\u001B[0m in \u001B[0;36mdisplay_annotation\u001B[0;34m()\u001B[0m\n\u001B[1;32m     84\u001B[0m     \u001B[0mfile_in\u001B[0m \u001B[0;34m=\u001B[0m \u001B[0;34m'./data/singlepage-1.png'\u001B[0m\u001B[0;34m\u001B[0m\u001B[0;34m\u001B[0m\u001B[0m\n\u001B[1;32m     85\u001B[0m     \u001B[0mfile_out\u001B[0m \u001B[0;34m=\u001B[0m \u001B[0;34m'/tmp/singlepage-1-annotated.png'\u001B[0m\u001B[0;34m\u001B[0m\u001B[0;34m\u001B[0m\u001B[0m\n\u001B[0;32m---> 86\u001B[0;31m     \u001B[0mrender_doc_text\u001B[0m\u001B[0;34m(\u001B[0m\u001B[0mfile_in\u001B[0m\u001B[0;34m,\u001B[0m \u001B[0mfile_out\u001B[0m\u001B[0;34m)\u001B[0m\u001B[0;34m\u001B[0m\u001B[0;34m\u001B[0m\u001B[0m\n\u001B[0m",
      "\u001B[0;32m/home/src/oed/oed/bounding_boxes.py\u001B[0m in \u001B[0;36mrender_doc_text\u001B[0;34m(filein, fileout)\u001B[0m\n\u001B[1;32m     69\u001B[0m \u001B[0;32mdef\u001B[0m \u001B[0mrender_doc_text\u001B[0m\u001B[0;34m(\u001B[0m\u001B[0mfilein\u001B[0m\u001B[0;34m,\u001B[0m \u001B[0mfileout\u001B[0m\u001B[0;34m)\u001B[0m\u001B[0;34m:\u001B[0m\u001B[0;34m\u001B[0m\u001B[0;34m\u001B[0m\u001B[0m\n\u001B[1;32m     70\u001B[0m     \u001B[0mimage\u001B[0m \u001B[0;34m=\u001B[0m \u001B[0mImage\u001B[0m\u001B[0;34m.\u001B[0m\u001B[0mopen\u001B[0m\u001B[0;34m(\u001B[0m\u001B[0mfilein\u001B[0m\u001B[0;34m)\u001B[0m\u001B[0;34m\u001B[0m\u001B[0;34m\u001B[0m\u001B[0m\n\u001B[0;32m---> 71\u001B[0;31m     \u001B[0mbounds\u001B[0m \u001B[0;34m=\u001B[0m \u001B[0mget_document_bounds\u001B[0m\u001B[0;34m(\u001B[0m\u001B[0mfilein\u001B[0m\u001B[0;34m,\u001B[0m \u001B[0mFeatureType\u001B[0m\u001B[0;34m.\u001B[0m\u001B[0mBLOCK\u001B[0m\u001B[0;34m)\u001B[0m\u001B[0;34m\u001B[0m\u001B[0;34m\u001B[0m\u001B[0m\n\u001B[0m\u001B[1;32m     72\u001B[0m     \u001B[0mdraw_boxes\u001B[0m\u001B[0;34m(\u001B[0m\u001B[0mimage\u001B[0m\u001B[0;34m,\u001B[0m \u001B[0mbounds\u001B[0m\u001B[0;34m,\u001B[0m \u001B[0;34m'blue'\u001B[0m\u001B[0;34m)\u001B[0m\u001B[0;34m\u001B[0m\u001B[0;34m\u001B[0m\u001B[0m\n\u001B[1;32m     73\u001B[0m     \u001B[0mbounds\u001B[0m \u001B[0;34m=\u001B[0m \u001B[0mget_document_bounds\u001B[0m\u001B[0;34m(\u001B[0m\u001B[0mfilein\u001B[0m\u001B[0;34m,\u001B[0m \u001B[0mFeatureType\u001B[0m\u001B[0;34m.\u001B[0m\u001B[0mPARA\u001B[0m\u001B[0;34m)\u001B[0m\u001B[0;34m\u001B[0m\u001B[0;34m\u001B[0m\u001B[0m\n",
      "\u001B[0;32m/home/src/oed/oed/bounding_boxes.py\u001B[0m in \u001B[0;36mget_document_bounds\u001B[0;34m(image_file, feature)\u001B[0m\n\u001B[1;32m     33\u001B[0m \u001B[0;32mdef\u001B[0m \u001B[0mget_document_bounds\u001B[0m\u001B[0;34m(\u001B[0m\u001B[0mimage_file\u001B[0m\u001B[0;34m,\u001B[0m \u001B[0mfeature\u001B[0m\u001B[0;34m)\u001B[0m\u001B[0;34m:\u001B[0m\u001B[0;34m\u001B[0m\u001B[0;34m\u001B[0m\u001B[0m\n\u001B[1;32m     34\u001B[0m     \u001B[0;34m\"\"\"Returns document bounds given an image.\"\"\"\u001B[0m\u001B[0;34m\u001B[0m\u001B[0;34m\u001B[0m\u001B[0m\n\u001B[0;32m---> 35\u001B[0;31m     \u001B[0mclient\u001B[0m \u001B[0;34m=\u001B[0m \u001B[0mvision\u001B[0m\u001B[0;34m.\u001B[0m\u001B[0mImageAnnotatorClient\u001B[0m\u001B[0;34m(\u001B[0m\u001B[0mcredentials\u001B[0m\u001B[0;34m=\u001B[0m\u001B[0mcreds\u001B[0m\u001B[0;34m)\u001B[0m\u001B[0;34m\u001B[0m\u001B[0;34m\u001B[0m\u001B[0m\n\u001B[0m\u001B[1;32m     36\u001B[0m \u001B[0;34m\u001B[0m\u001B[0m\n\u001B[1;32m     37\u001B[0m     \u001B[0mbounds\u001B[0m \u001B[0;34m=\u001B[0m \u001B[0;34m[\u001B[0m\u001B[0;34m]\u001B[0m\u001B[0;34m\u001B[0m\u001B[0;34m\u001B[0m\u001B[0m\n",
      "\u001B[0;31mNameError\u001B[0m: name 'creds' is not defined"
     ]
    }
   ],
   "source": [
    "# cargo-cult from https://towardsdatascience.com/how-to-extract-the-text-from-pdfs-using-python-and-the-google-cloud-vision-api-7a0a798adc13\n",
    "\n",
    "\n",
    "display_annotation()"
   ],
   "metadata": {
    "collapsed": false,
    "pycharm": {
     "name": "#%%\n"
    }
   }
  },
  {
   "cell_type": "code",
   "execution_count": 195,
   "outputs": [],
   "source": [
    "\n"
   ],
   "metadata": {
    "collapsed": false,
    "pycharm": {
     "name": "#%%\n"
    }
   }
  },
  {
   "cell_type": "markdown",
   "source": [
    "coordinates are (0,0) in top right"
   ],
   "metadata": {
    "collapsed": false,
    "pycharm": {
     "name": "#%% md\n"
    }
   }
  }
 ],
 "metadata": {
  "kernelspec": {
   "display_name": "Python 3",
   "language": "python",
   "name": "python3"
  },
  "language_info": {
   "codemirror_mode": {
    "name": "ipython",
    "version": 2
   },
   "file_extension": ".py",
   "mimetype": "text/x-python",
   "name": "python",
   "nbconvert_exporter": "python",
   "pygments_lexer": "ipython2",
   "version": "2.7.6"
  }
 },
 "nbformat": 4,
 "nbformat_minor": 0
}