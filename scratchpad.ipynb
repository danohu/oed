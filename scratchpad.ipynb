{
 "cells": [
  {
   "cell_type": "markdown",
   "source": [
    "[Google Vision python docs](https://googleapis.dev/python/vision/latest/index.html)\n",
    "\n",
    "cf. [another tutorial](https://cloud.google.com/functions/docs/tutorials/ocr), which uses cloud functions\n",
    "\n",
    "It turns out, google OCR will work with PDFs only if thy are stored in google cloud. Since that just adds another layer of complexity, I'm going to work with Backblaze"
   ],
   "metadata": {
    "collapsed": false,
    "pycharm": {
     "name": "#%% md\n"
    }
   }
  },
  {
   "cell_type": "code",
   "execution_count": 87,
   "metadata": {
    "collapsed": true
   },
   "outputs": [],
   "source": [
    "from PIL import ImageDraw\n",
    "from google.oauth2 import service_account\n",
    "creds_path = '/home/src/oed/creds.json'\n",
    "\n",
    "creds = service_account.Credentials.from_service_account_file(creds_path)"
   ]
  },
  {
   "cell_type": "code",
   "execution_count": 88,
   "outputs": [
    {
     "name": "stdout",
     "output_type": "stream",
     "text": [
      "{\n",
      "  \"shell_port\": 42625,\n",
      "  \"iopub_port\": 34709,\n",
      "  \"stdin_port\": 34463,\n",
      "  \"control_port\": 38627,\n",
      "  \"hb_port\": 32969,\n",
      "  \"ip\": \"127.0.0.1\",\n",
      "  \"key\": \"fc881614-4166bf89ba71261b08a7a703\",\n",
      "  \"transport\": \"tcp\",\n",
      "  \"signature_scheme\": \"hmac-sha256\",\n",
      "  \"kernel_name\": \"\"\n",
      "}\n",
      "\n",
      "Paste the above JSON into a file, and connect with:\n",
      "    $> jupyter <app> --existing <file>\n",
      "or, if you are local, you can connect with just:\n",
      "    $> jupyter <app> --existing kernel-af21ada3-6f4e-430b-8015-e238442182df.json\n",
      "or even just:\n",
      "    $> jupyter <app> --existing\n",
      "if this is the most recent Jupyter kernel you have started.\n"
     ]
    }
   ],
   "source": [
    "%connect_info"
   ],
   "metadata": {
    "collapsed": false,
    "pycharm": {
     "name": "#%%\n"
    }
   }
  },
  {
   "cell_type": "code",
   "execution_count": 89,
   "outputs": [],
   "source": [
    "from google.protobuf.json_format import MessageToDict\n",
    "from google.cloud import vision\n",
    "client = vision.ImageAnnotatorClient(credentials=creds)\n",
    "\n",
    "\n",
    "feature = vision.Feature(\n",
    "    type_=vision.Feature.Type.DOCUMENT_TEXT_DETECTION)\n",
    "# async_request = vision.AsyncAnnotateFileRequest(\n",
    "#     features=[feature], input_config=input_config,\n",
    "#     output_config=output_config)\n",
    "\n",
    "source_uri = 'https://jeroen.github.io/images/testocr.png'\n",
    "# source_uri = 'https://africau.edu/images/default/sample.pdf'\n",
    "\n",
    "source_uri = 'https://ohuiginn.net/tmp/singlepage-1.png'\n",
    "image_src = vision.ImageSource(image_uri = source_uri)\n",
    "img = vision.Image(source=image_src)\n",
    "page_as_protobuf = client.annotate_image({\n",
    "    'image': img,\n",
    "\n",
    "# 'image': {'source': {'image_uri': source_uri}},\n",
    "    'features': [feature]\n",
    "})\n",
    "page_as_protobuf\n",
    "page_as_dict = MessageToDict(page_as_protobuf._pb)"
   ],
   "metadata": {
    "collapsed": false,
    "pycharm": {
     "name": "#%%\n"
    }
   }
  },
  {
   "cell_type": "code",
   "execution_count": 90,
   "outputs": [],
   "source": [
    "# cargo-cult from https://towardsdatascience.com/how-to-extract-the-text-from-pdfs-using-python-and-the-google-cloud-vision-api-7a0a798adc13\n",
    "\n",
    "\n",
    "display_annotation()"
   ],
   "metadata": {
    "collapsed": false,
    "pycharm": {
     "name": "#%%\n"
    }
   }
  },
  {
   "cell_type": "code",
   "execution_count": 195,
   "outputs": [],
   "source": [
    "\n"
   ],
   "metadata": {
    "collapsed": false,
    "pycharm": {
     "name": "#%%\n"
    }
   }
  },
  {
   "cell_type": "markdown",
   "source": [
    "coordinates are (0,0) in top right"
   ],
   "metadata": {
    "collapsed": false,
    "pycharm": {
     "name": "#%% md\n"
    }
   }
  }
 ],
 "metadata": {
  "kernelspec": {
   "display_name": "Python 3",
   "language": "python",
   "name": "python3"
  },
  "language_info": {
   "codemirror_mode": {
    "name": "ipython",
    "version": 2
   },
   "file_extension": ".py",
   "mimetype": "text/x-python",
   "name": "python",
   "nbconvert_exporter": "python",
   "pygments_lexer": "ipython2",
   "version": "2.7.6"
  }
 },
 "nbformat": 4,
 "nbformat_minor": 0
}